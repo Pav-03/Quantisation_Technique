{
  "nbformat": 4,
  "nbformat_minor": 0,
  "metadata": {
    "colab": {
      "provenance": [],
      "gpuType": "T4"
    },
    "kernelspec": {
      "name": "python3",
      "display_name": "Python 3"
    },
    "language_info": {
      "name": "python"
    },
    "accelerator": "GPU"
  },
  "cells": [
    {
      "cell_type": "code",
      "execution_count": 1,
      "metadata": {
        "id": "a4DmyxEOXx0j"
      },
      "outputs": [],
      "source": [
        "import torch\n",
        "import torchvision.datasets as datasets\n",
        "import torchvision.transforms as transforms\n",
        "import torch.nn as nn\n",
        "from tqdm import tqdm\n",
        "from pathlib import Path\n",
        "import os"
      ]
    },
    {
      "cell_type": "markdown",
      "source": [
        "# Load MNIST Dataset"
      ],
      "metadata": {
        "id": "_liFAan2Y1Ph"
      }
    },
    {
      "cell_type": "code",
      "source": [
        "# Make torch deterministic\n",
        "_ = torch.manual_seed(0)"
      ],
      "metadata": {
        "id": "krzUlzK6Y4jt"
      },
      "execution_count": 2,
      "outputs": []
    },
    {
      "cell_type": "code",
      "source": [
        "transform = transforms.Compose([transforms.ToTensor(), transforms.Normalize((0.1307,), (0.3081,))])\n",
        "\n",
        "# Load MNIST train data\n",
        "mnist_trainset = datasets.MNIST(root='./data', train=True, download=True, transform=transform)\n",
        "\n",
        "# Create data loader for the training\n",
        "train_loader = torch.utils.data.DataLoader(mnist_trainset, batch_size=10, shuffle=True)\n",
        "\n",
        "# Load MNIST test data\n",
        "mnist_testset = datasets.MNIST(root='./data', train=False, download=True, transform=transform)\n",
        "\n",
        "# Create data loader for test data\n",
        "test_loader = torch.utils.data.DataLoader(mnist_testset, batch_size=10, shuffle=True)\n",
        "\n",
        "# Define the device\n",
        "device = \"cpu\""
      ],
      "metadata": {
        "colab": {
          "base_uri": "https://localhost:8080/"
        },
        "id": "UM8TUMTMZGrb",
        "outputId": "dcaa670d-293f-457e-f1d1-7704e89f5cc1"
      },
      "execution_count": 3,
      "outputs": [
        {
          "output_type": "stream",
          "name": "stdout",
          "text": [
            "Downloading http://yann.lecun.com/exdb/mnist/train-images-idx3-ubyte.gz\n",
            "Failed to download (trying next):\n",
            "<urlopen error [Errno 111] Connection refused>\n",
            "\n",
            "Downloading https://ossci-datasets.s3.amazonaws.com/mnist/train-images-idx3-ubyte.gz\n",
            "Downloading https://ossci-datasets.s3.amazonaws.com/mnist/train-images-idx3-ubyte.gz to ./data/MNIST/raw/train-images-idx3-ubyte.gz\n"
          ]
        },
        {
          "output_type": "stream",
          "name": "stderr",
          "text": [
            "100%|██████████| 9.91M/9.91M [00:00<00:00, 16.1MB/s]\n"
          ]
        },
        {
          "output_type": "stream",
          "name": "stdout",
          "text": [
            "Extracting ./data/MNIST/raw/train-images-idx3-ubyte.gz to ./data/MNIST/raw\n",
            "\n",
            "Downloading http://yann.lecun.com/exdb/mnist/train-labels-idx1-ubyte.gz\n",
            "Failed to download (trying next):\n",
            "<urlopen error [Errno 111] Connection refused>\n",
            "\n",
            "Downloading https://ossci-datasets.s3.amazonaws.com/mnist/train-labels-idx1-ubyte.gz\n",
            "Downloading https://ossci-datasets.s3.amazonaws.com/mnist/train-labels-idx1-ubyte.gz to ./data/MNIST/raw/train-labels-idx1-ubyte.gz\n"
          ]
        },
        {
          "output_type": "stream",
          "name": "stderr",
          "text": [
            "100%|██████████| 28.9k/28.9k [00:00<00:00, 487kB/s]\n"
          ]
        },
        {
          "output_type": "stream",
          "name": "stdout",
          "text": [
            "Extracting ./data/MNIST/raw/train-labels-idx1-ubyte.gz to ./data/MNIST/raw\n",
            "\n",
            "Downloading http://yann.lecun.com/exdb/mnist/t10k-images-idx3-ubyte.gz\n",
            "Failed to download (trying next):\n",
            "<urlopen error [Errno 111] Connection refused>\n",
            "\n",
            "Downloading https://ossci-datasets.s3.amazonaws.com/mnist/t10k-images-idx3-ubyte.gz\n",
            "Downloading https://ossci-datasets.s3.amazonaws.com/mnist/t10k-images-idx3-ubyte.gz to ./data/MNIST/raw/t10k-images-idx3-ubyte.gz\n"
          ]
        },
        {
          "output_type": "stream",
          "name": "stderr",
          "text": [
            "100%|██████████| 1.65M/1.65M [00:00<00:00, 3.79MB/s]\n"
          ]
        },
        {
          "output_type": "stream",
          "name": "stdout",
          "text": [
            "Extracting ./data/MNIST/raw/t10k-images-idx3-ubyte.gz to ./data/MNIST/raw\n",
            "\n",
            "Downloading http://yann.lecun.com/exdb/mnist/t10k-labels-idx1-ubyte.gz\n",
            "Failed to download (trying next):\n",
            "<urlopen error [Errno 111] Connection refused>\n",
            "\n",
            "Downloading https://ossci-datasets.s3.amazonaws.com/mnist/t10k-labels-idx1-ubyte.gz\n",
            "Downloading https://ossci-datasets.s3.amazonaws.com/mnist/t10k-labels-idx1-ubyte.gz to ./data/MNIST/raw/t10k-labels-idx1-ubyte.gz\n"
          ]
        },
        {
          "output_type": "stream",
          "name": "stderr",
          "text": [
            "100%|██████████| 4.54k/4.54k [00:00<00:00, 4.59MB/s]"
          ]
        },
        {
          "output_type": "stream",
          "name": "stdout",
          "text": [
            "Extracting ./data/MNIST/raw/t10k-labels-idx1-ubyte.gz to ./data/MNIST/raw\n",
            "\n"
          ]
        },
        {
          "output_type": "stream",
          "name": "stderr",
          "text": [
            "\n"
          ]
        }
      ]
    },
    {
      "cell_type": "markdown",
      "source": [
        "# Define Model"
      ],
      "metadata": {
        "id": "bm5NOgeXb6DI"
      }
    },
    {
      "cell_type": "code",
      "source": [
        "class SimpleNet(nn.Module):\n",
        "  def __init__(self, hidden_size_1=100, hidden_size_2=100):\n",
        "    super(SimpleNet, self).__init__()\n",
        "    self.linear1 = nn.Linear(28*28, hidden_size_1)\n",
        "    self.linear2 = nn.Linear(hidden_size_1, hidden_size_2)\n",
        "    self.linear3 = nn.Linear(hidden_size_2, 10)\n",
        "    self.relu = nn.ReLU()\n",
        "\n",
        "  def forward(self, img):\n",
        "    x = img.view(-1, 28*28)\n",
        "    x = self.relu(self.linear1(x))\n",
        "    x = self.relu(self.linear2(x))\n",
        "    x = self.linear3(x)\n",
        "    return x"
      ],
      "metadata": {
        "id": "Y_0rK3nMbz2O"
      },
      "execution_count": 7,
      "outputs": []
    },
    {
      "cell_type": "code",
      "source": [
        "net = SimpleNet().to(device)"
      ],
      "metadata": {
        "id": "yqtJUf-CdlPd"
      },
      "execution_count": 8,
      "outputs": []
    },
    {
      "cell_type": "markdown",
      "source": [
        "# Train The Model"
      ],
      "metadata": {
        "id": "CeVI_e6ad3c_"
      }
    },
    {
      "cell_type": "code",
      "source": [
        "def train(train_loader, net, epochs=5, total_iterations_limit=None):\n",
        "  cross_el = nn.CrossEntropyLoss()\n",
        "  optimiser = torch.optim.Adam(net.parameters(), lr=0.001)\n",
        "\n",
        "  total_iterations = 0\n",
        "\n",
        "  for epoch in range(epochs):\n",
        "    net.train()\n",
        "\n",
        "    loss_sum = 0\n",
        "    num_iterations = 0\n",
        "\n",
        "    data_iterator = tqdm(train_loader, desc=f'Epoch {epoch+1}')\n",
        "    if total_iterations_limit is not None:\n",
        "      data_iterator.total = total_iterations_limit\n",
        "\n",
        "    for data in data_iterator:\n",
        "      num_iterations +=1\n",
        "      total_iterations +=1\n",
        "      x, y = data\n",
        "      x = x.to(device)\n",
        "      y = y.to(device)\n",
        "      optimiser.zero_grad()\n",
        "      output = net(x.view(-1, 28*28))\n",
        "      loss = cross_el(output, y)\n",
        "      loss_sum += loss.item()\n",
        "      avg_loss = loss_sum / num_iterations\n",
        "      data_iterator.set_postfix(loss=avg_loss)\n",
        "      loss.backward()\n",
        "      optimiser.step()\n",
        "\n",
        "      if total_iterations_limit is not None and total_iterations >= total_iterations_limit:\n",
        "        return\n",
        "\n",
        "def print_size_of_model(model):\n",
        "  torch.save(model.state_dict(), \"temp_delme.p\")\n",
        "  print('size (KB):', os.path.getsize(\"temp_delme.p\")/1e3)\n",
        "  os.remove('temp_delme.p')\n",
        "\n",
        "MODEL_FILENAME = 'SimpleNet_ptq.pt'\n",
        "\n",
        "if Path(MODEL_FILENAME).exists():\n",
        "  net.load_state_dict(torch.load(MODEL_FILENAME))\n",
        "  print('Loaded Model from Disk')\n",
        "else:\n",
        "  train(train_loader, net, epochs=1)\n",
        "  # save the model to disk\n",
        "  torch.save(net.state_dict(), MODEL_FILENAME)\n"
      ],
      "metadata": {
        "colab": {
          "base_uri": "https://localhost:8080/"
        },
        "id": "pLsru1aedwj8",
        "outputId": "32b616f5-d21a-4622-83df-96fabeacd550"
      },
      "execution_count": 12,
      "outputs": [
        {
          "output_type": "stream",
          "name": "stderr",
          "text": [
            "Epoch 1: 100%|██████████| 6000/6000 [00:43<00:00, 136.96it/s, loss=0.219]\n"
          ]
        }
      ]
    },
    {
      "cell_type": "markdown",
      "source": [
        "# Define Testin Loop"
      ],
      "metadata": {
        "id": "8Rozswcajkt0"
      }
    },
    {
      "cell_type": "code",
      "source": [
        "def test(model: nn.Module, total_iterations: int = None):\n",
        "    correct = 0\n",
        "    total = 0\n",
        "\n",
        "    iterations = 0\n",
        "\n",
        "    model.eval()\n",
        "\n",
        "    with torch.no_grad():\n",
        "        for data in tqdm(test_loader, desc='Testing'):\n",
        "            x, y = data\n",
        "            x = x.to(device)\n",
        "            y = y.to(device)\n",
        "            output = model(x.view(-1, 784))\n",
        "            for idx, i in enumerate(output):\n",
        "                if torch.argmax(i) == y[idx]:\n",
        "                    correct +=1\n",
        "                total +=1\n",
        "            iterations += 1\n",
        "            if total_iterations is not None and iterations >= total_iterations:\n",
        "                break\n",
        "    print(f'Accuracy: {round(correct/total, 3)}')"
      ],
      "metadata": {
        "id": "44m1m6Xki4GJ"
      },
      "execution_count": 13,
      "outputs": []
    },
    {
      "cell_type": "markdown",
      "source": [
        "# Print weights and size of the model before quantization"
      ],
      "metadata": {
        "id": "xLDuftNqj4ib"
      }
    },
    {
      "cell_type": "code",
      "source": [
        "# Print the weights matrix of the model before quantization\n",
        "print('Weights before quantization')\n",
        "print(net.linear1.weight)\n",
        "print(net.linear1.weight.dtype)"
      ],
      "metadata": {
        "colab": {
          "base_uri": "https://localhost:8080/"
        },
        "id": "ZzXpyMArj1E4",
        "outputId": "9822d45a-adbe-442e-d067-52978385b59b"
      },
      "execution_count": 14,
      "outputs": [
        {
          "output_type": "stream",
          "name": "stdout",
          "text": [
            "Weights before quantization\n",
            "Parameter containing:\n",
            "tensor([[ 0.0196,  0.0285,  0.0351,  ...,  0.0549,  0.0240,  0.0750],\n",
            "        [ 0.0041, -0.0358, -0.0440,  ..., -0.0175, -0.0217,  0.0185],\n",
            "        [ 0.0290,  0.0413,  0.0226,  ...,  0.0041,  0.0275,  0.0188],\n",
            "        ...,\n",
            "        [ 0.0271, -0.0004,  0.0332,  ...,  0.0025,  0.0248, -0.0060],\n",
            "        [-0.0133,  0.0158,  0.0453,  ..., -0.0133,  0.0136,  0.0380],\n",
            "        [ 0.0194, -0.0109, -0.0232,  ...,  0.0139, -0.0151,  0.0204]],\n",
            "       requires_grad=True)\n",
            "torch.float32\n"
          ]
        }
      ]
    },
    {
      "cell_type": "code",
      "source": [
        "print('Size of the model before quantization')\n",
        "print_size_of_model(net)"
      ],
      "metadata": {
        "colab": {
          "base_uri": "https://localhost:8080/"
        },
        "id": "XHIhRArkj-SU",
        "outputId": "952be97a-93fe-492f-d787-9236ea7d3a10"
      },
      "execution_count": 15,
      "outputs": [
        {
          "output_type": "stream",
          "name": "stdout",
          "text": [
            "Size of the model before quantization\n",
            "size (KB): 360.998\n"
          ]
        }
      ]
    },
    {
      "cell_type": "code",
      "source": [
        "print(f'Accuracy of the model before quantization: ')\n",
        "test(net)"
      ],
      "metadata": {
        "colab": {
          "base_uri": "https://localhost:8080/"
        },
        "id": "xDzskd0XkBgp",
        "outputId": "1dc82b28-80c7-4dd6-d255-be4c57554e11"
      },
      "execution_count": 16,
      "outputs": [
        {
          "output_type": "stream",
          "name": "stdout",
          "text": [
            "Accuracy of the model before quantization: \n"
          ]
        },
        {
          "output_type": "stream",
          "name": "stderr",
          "text": [
            "Testing: 100%|██████████| 1000/1000 [00:02<00:00, 400.30it/s]"
          ]
        },
        {
          "output_type": "stream",
          "name": "stdout",
          "text": [
            "Accuracy: 0.961\n"
          ]
        },
        {
          "output_type": "stream",
          "name": "stderr",
          "text": [
            "\n"
          ]
        }
      ]
    },
    {
      "cell_type": "markdown",
      "source": [
        "# Insert min-max observers in the model"
      ],
      "metadata": {
        "id": "m3-TapfNkHuz"
      }
    },
    {
      "cell_type": "code",
      "source": [
        "class QuantizedSimpleNet(nn.Module):\n",
        "    def __init__(self, hidden_size_1=100, hidden_size_2=100):\n",
        "        super(QuantizedSimpleNet,self).__init__()\n",
        "        self.quant = torch.quantization.QuantStub()\n",
        "        self.linear1 = nn.Linear(28*28, hidden_size_1)\n",
        "        self.linear2 = nn.Linear(hidden_size_1, hidden_size_2)\n",
        "        self.linear3 = nn.Linear(hidden_size_2, 10)\n",
        "        self.relu = nn.ReLU()\n",
        "        self.dequant = torch.quantization.DeQuantStub()\n",
        "\n",
        "    def forward(self, img):\n",
        "        x = img.view(-1, 28*28)\n",
        "        x = self.quant(x)\n",
        "        x = self.relu(self.linear1(x))\n",
        "        x = self.relu(self.linear2(x))\n",
        "        x = self.linear3(x)\n",
        "        x = self.dequant(x)\n",
        "        return x"
      ],
      "metadata": {
        "id": "l4KzHXJnkD9r"
      },
      "execution_count": 17,
      "outputs": []
    },
    {
      "cell_type": "code",
      "source": [
        "net_quantized = QuantizedSimpleNet().to(device)\n",
        "# Copy weights from unquantized model\n",
        "net_quantized.load_state_dict(net.state_dict())\n",
        "net_quantized.eval()\n",
        "\n",
        "net_quantized.qconfig = torch.ao.quantization.default_qconfig\n",
        "net_quantized = torch.ao.quantization.prepare(net_quantized) # Insert observers\n",
        "net_quantized"
      ],
      "metadata": {
        "colab": {
          "base_uri": "https://localhost:8080/"
        },
        "id": "IZOTh0yskP1k",
        "outputId": "9f2d6900-e5e8-49b1-e116-305d27159c82"
      },
      "execution_count": 18,
      "outputs": [
        {
          "output_type": "execute_result",
          "data": {
            "text/plain": [
              "QuantizedSimpleNet(\n",
              "  (quant): QuantStub(\n",
              "    (activation_post_process): MinMaxObserver(min_val=inf, max_val=-inf)\n",
              "  )\n",
              "  (linear1): Linear(\n",
              "    in_features=784, out_features=100, bias=True\n",
              "    (activation_post_process): MinMaxObserver(min_val=inf, max_val=-inf)\n",
              "  )\n",
              "  (linear2): Linear(\n",
              "    in_features=100, out_features=100, bias=True\n",
              "    (activation_post_process): MinMaxObserver(min_val=inf, max_val=-inf)\n",
              "  )\n",
              "  (linear3): Linear(\n",
              "    in_features=100, out_features=10, bias=True\n",
              "    (activation_post_process): MinMaxObserver(min_val=inf, max_val=-inf)\n",
              "  )\n",
              "  (relu): ReLU()\n",
              "  (dequant): DeQuantStub()\n",
              ")"
            ]
          },
          "metadata": {},
          "execution_count": 18
        }
      ]
    },
    {
      "cell_type": "code",
      "source": [
        "test(net_quantized)"
      ],
      "metadata": {
        "colab": {
          "base_uri": "https://localhost:8080/"
        },
        "id": "M1H5ilfvkT5w",
        "outputId": "cbd2a51b-41be-4e7d-9fb5-39c97d0bcb2d"
      },
      "execution_count": 19,
      "outputs": [
        {
          "output_type": "stream",
          "name": "stderr",
          "text": [
            "Testing: 100%|██████████| 1000/1000 [00:02<00:00, 369.71it/s]"
          ]
        },
        {
          "output_type": "stream",
          "name": "stdout",
          "text": [
            "Accuracy: 0.961\n"
          ]
        },
        {
          "output_type": "stream",
          "name": "stderr",
          "text": [
            "\n"
          ]
        }
      ]
    },
    {
      "cell_type": "code",
      "source": [
        "print(f'Check statistics of the various layers')\n",
        "net_quantized"
      ],
      "metadata": {
        "colab": {
          "base_uri": "https://localhost:8080/"
        },
        "id": "XqmLEChMkWug",
        "outputId": "26479681-96d6-4fb7-e7b3-b4bb2fcc5b91"
      },
      "execution_count": 20,
      "outputs": [
        {
          "output_type": "stream",
          "name": "stdout",
          "text": [
            "Check statistics of the various layers\n"
          ]
        },
        {
          "output_type": "execute_result",
          "data": {
            "text/plain": [
              "QuantizedSimpleNet(\n",
              "  (quant): QuantStub(\n",
              "    (activation_post_process): MinMaxObserver(min_val=-0.4242129623889923, max_val=2.821486711502075)\n",
              "  )\n",
              "  (linear1): Linear(\n",
              "    in_features=784, out_features=100, bias=True\n",
              "    (activation_post_process): MinMaxObserver(min_val=-45.13227081298828, max_val=35.510284423828125)\n",
              "  )\n",
              "  (linear2): Linear(\n",
              "    in_features=100, out_features=100, bias=True\n",
              "    (activation_post_process): MinMaxObserver(min_val=-25.628477096557617, max_val=27.260677337646484)\n",
              "  )\n",
              "  (linear3): Linear(\n",
              "    in_features=100, out_features=10, bias=True\n",
              "    (activation_post_process): MinMaxObserver(min_val=-31.464719772338867, max_val=23.279218673706055)\n",
              "  )\n",
              "  (relu): ReLU()\n",
              "  (dequant): DeQuantStub()\n",
              ")"
            ]
          },
          "metadata": {},
          "execution_count": 20
        }
      ]
    },
    {
      "cell_type": "markdown",
      "source": [
        "# Quantize the model using the statistics collected"
      ],
      "metadata": {
        "id": "ILFoxHyUkda0"
      }
    },
    {
      "cell_type": "code",
      "source": [
        "net_quantized = torch.ao.quantization.convert(net_quantized)"
      ],
      "metadata": {
        "id": "H2ir7y8ykZ_8"
      },
      "execution_count": 21,
      "outputs": []
    },
    {
      "cell_type": "code",
      "source": [
        "print(f'Check statistics of the various layers')\n",
        "net_quantized"
      ],
      "metadata": {
        "colab": {
          "base_uri": "https://localhost:8080/"
        },
        "id": "bFkUAx8mk7sW",
        "outputId": "26fa2d22-4fea-4fbb-b883-3e3663a1f4a2"
      },
      "execution_count": 22,
      "outputs": [
        {
          "output_type": "stream",
          "name": "stdout",
          "text": [
            "Check statistics of the various layers\n"
          ]
        },
        {
          "output_type": "execute_result",
          "data": {
            "text/plain": [
              "QuantizedSimpleNet(\n",
              "  (quant): Quantize(scale=tensor([0.0256]), zero_point=tensor([17]), dtype=torch.quint8)\n",
              "  (linear1): QuantizedLinear(in_features=784, out_features=100, scale=0.6349807381629944, zero_point=71, qscheme=torch.per_tensor_affine)\n",
              "  (linear2): QuantizedLinear(in_features=100, out_features=100, scale=0.41645002365112305, zero_point=62, qscheme=torch.per_tensor_affine)\n",
              "  (linear3): QuantizedLinear(in_features=100, out_features=10, scale=0.43105462193489075, zero_point=73, qscheme=torch.per_tensor_affine)\n",
              "  (relu): ReLU()\n",
              "  (dequant): DeQuantize()\n",
              ")"
            ]
          },
          "metadata": {},
          "execution_count": 22
        }
      ]
    },
    {
      "cell_type": "markdown",
      "source": [
        "# Print weights of the model after quantization"
      ],
      "metadata": {
        "id": "LrrOSEqRlBJ1"
      }
    },
    {
      "cell_type": "code",
      "source": [
        "# Print the weights matrix of the model after quantization\n",
        "print('Weights after quantization')\n",
        "print(torch.int_repr(net_quantized.linear1.weight()))"
      ],
      "metadata": {
        "colab": {
          "base_uri": "https://localhost:8080/"
        },
        "id": "2r1jEhtok-RL",
        "outputId": "9f6819e7-d853-492f-aa5a-15967491b21f"
      },
      "execution_count": 23,
      "outputs": [
        {
          "output_type": "stream",
          "name": "stdout",
          "text": [
            "Weights after quantization\n",
            "tensor([[  4,   6,   8,  ...,  12,   5,  16],\n",
            "        [  1,  -8, -10,  ...,  -4,  -5,   4],\n",
            "        [  6,   9,   5,  ...,   1,   6,   4],\n",
            "        ...,\n",
            "        [  6,   0,   7,  ...,   1,   5,  -1],\n",
            "        [ -3,   3,  10,  ...,  -3,   3,   8],\n",
            "        [  4,  -2,  -5,  ...,   3,  -3,   4]], dtype=torch.int8)\n"
          ]
        }
      ]
    },
    {
      "cell_type": "markdown",
      "source": [
        "# Compare the dequantized weights and the original weights"
      ],
      "metadata": {
        "id": "BBtrj2YNlHv-"
      }
    },
    {
      "cell_type": "code",
      "source": [
        "print('Original weights: ')\n",
        "print(net.linear1.weight)\n",
        "print('')\n",
        "print(f'Dequantized weights: ')\n",
        "print(torch.dequantize(net_quantized.linear1.weight()))\n",
        "print('')"
      ],
      "metadata": {
        "colab": {
          "base_uri": "https://localhost:8080/"
        },
        "id": "Zeg6OD-TlEb5",
        "outputId": "8d9694e2-1cd3-4ba0-f9eb-cf1c82480097"
      },
      "execution_count": 24,
      "outputs": [
        {
          "output_type": "stream",
          "name": "stdout",
          "text": [
            "Original weights: \n",
            "Parameter containing:\n",
            "tensor([[ 0.0196,  0.0285,  0.0351,  ...,  0.0549,  0.0240,  0.0750],\n",
            "        [ 0.0041, -0.0358, -0.0440,  ..., -0.0175, -0.0217,  0.0185],\n",
            "        [ 0.0290,  0.0413,  0.0226,  ...,  0.0041,  0.0275,  0.0188],\n",
            "        ...,\n",
            "        [ 0.0271, -0.0004,  0.0332,  ...,  0.0025,  0.0248, -0.0060],\n",
            "        [-0.0133,  0.0158,  0.0453,  ..., -0.0133,  0.0136,  0.0380],\n",
            "        [ 0.0194, -0.0109, -0.0232,  ...,  0.0139, -0.0151,  0.0204]],\n",
            "       requires_grad=True)\n",
            "\n",
            "Dequantized weights: \n",
            "tensor([[ 0.0183,  0.0274,  0.0366,  ...,  0.0549,  0.0229,  0.0731],\n",
            "        [ 0.0046, -0.0366, -0.0457,  ..., -0.0183, -0.0229,  0.0183],\n",
            "        [ 0.0274,  0.0411,  0.0229,  ...,  0.0046,  0.0274,  0.0183],\n",
            "        ...,\n",
            "        [ 0.0274,  0.0000,  0.0320,  ...,  0.0046,  0.0229, -0.0046],\n",
            "        [-0.0137,  0.0137,  0.0457,  ..., -0.0137,  0.0137,  0.0366],\n",
            "        [ 0.0183, -0.0091, -0.0229,  ...,  0.0137, -0.0137,  0.0183]])\n",
            "\n"
          ]
        }
      ]
    },
    {
      "cell_type": "markdown",
      "source": [
        "# Print size and accuracy of the quantized model"
      ],
      "metadata": {
        "id": "rp140gcglOzN"
      }
    },
    {
      "cell_type": "code",
      "source": [
        "print('Size of the model after quantization')\n",
        "print_size_of_model(net_quantized)"
      ],
      "metadata": {
        "colab": {
          "base_uri": "https://localhost:8080/"
        },
        "id": "LOaTw-VzlLaT",
        "outputId": "eb5cea76-4595-4a89-e614-eb21e67159a8"
      },
      "execution_count": 25,
      "outputs": [
        {
          "output_type": "stream",
          "name": "stdout",
          "text": [
            "Size of the model after quantization\n",
            "size (KB): 95.394\n"
          ]
        }
      ]
    },
    {
      "cell_type": "code",
      "source": [
        "print('Testing the model before quantization')\n",
        "test(net_quantized)"
      ],
      "metadata": {
        "colab": {
          "base_uri": "https://localhost:8080/"
        },
        "id": "zzbKloyQlSEm",
        "outputId": "e55a42a7-26ca-4a6e-eada-91011985f489"
      },
      "execution_count": 27,
      "outputs": [
        {
          "output_type": "stream",
          "name": "stdout",
          "text": [
            "Testing the model before quantization\n"
          ]
        },
        {
          "output_type": "stream",
          "name": "stderr",
          "text": [
            "Testing: 100%|██████████| 1000/1000 [00:02<00:00, 407.54it/s]"
          ]
        },
        {
          "output_type": "stream",
          "name": "stdout",
          "text": [
            "Accuracy: 0.961\n"
          ]
        },
        {
          "output_type": "stream",
          "name": "stderr",
          "text": [
            "\n"
          ]
        }
      ]
    },
    {
      "cell_type": "code",
      "source": [],
      "metadata": {
        "id": "wSGgMQm5lUvw"
      },
      "execution_count": null,
      "outputs": []
    }
  ]
}